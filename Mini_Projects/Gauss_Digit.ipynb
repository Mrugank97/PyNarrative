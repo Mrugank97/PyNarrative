{
  "cells": [
    {
      "cell_type": "markdown",
      "metadata": {
        "id": "R-Ay2Nzj8DaL"
      },
      "source": [
        "## **Project Description:**\n",
        "**Evaluating Gaussian Naive Bayes for Digit Classification with Error Analysis**<br><br>\n",
        "This project evaluates a Gaussian Naive Bayes model for classifying handwritten digits. It uses cross-validation to assess performance and analyzes the confusion matrix to identify digits with the highest misclassification rates. This helps understand where the model struggles and provides opportunities for improvement. \n",
        "\n",
        "---\n",
        "\n",
        "**Expected Outcome:**\n",
        "\n",
        "- This project aims to provide an evaluation of the GNB classifier's performance on digit classification using cross-validation.\n",
        "- The confusion matrix offers a visual representation of classification accuracy for each digit class.\n",
        "- The error analysis by digit helps identify potential challenges faced by the model in classifying specific digits. This information can be valuable for further investigation and potential model improvements. "
      ]
    },
    {
      "cell_type": "code",
      "execution_count": null,
      "metadata": {
        "colab": {
          "base_uri": "https://localhost:8080/"
        },
        "id": "LEVfLnkB9Utf",
        "outputId": "3fd66723-95e5-44b8-a6c4-95ebe67fec0b"
      },
      "outputs": [
        {
          "name": "stdout",
          "output_type": "stream",
          "text": [
            "Average Error 0.1930718043949241 \n",
            "\n",
            "Confusion Matrix \n",
            " [[174   0   0   0   2   0   0   1   0   1]\n",
            " [  0 137   8   0   0   0   5   4  18  10]\n",
            " [  0  13 112   1   1   2   1   0  45   2]\n",
            " [  0   2   6 133   0   8   0   7  22   5]\n",
            " [  3   2   2   0 142   1   3  25   3   0]\n",
            " [  0   1   0   3   2 158   1   8   5   4]\n",
            " [  0   1   1   0   1   3 174   0   1   0]\n",
            " [  0   0   1   0   2   1   0 174   1   0]\n",
            " [  0  20   3   0   1   5   0  10 133   2]\n",
            " [  1  11   0   8   2   4   1  17  23 113]] \n",
            "\n",
            "Error rate for digit 0: 0.022471910112359605\n",
            "Error rate for digit 1: 0.24725274725274726\n",
            "Error rate for digit 2: 0.36723163841807904\n",
            "Error rate for digit 3: 0.27322404371584696\n",
            "Error rate for digit 4: 0.2154696132596685\n",
            "Error rate for digit 5: 0.13186813186813184\n",
            "Error rate for digit 6: 0.03867403314917128\n",
            "Error rate for digit 7: 0.027932960893854775\n",
            "Error rate for digit 8: 0.23563218390804597\n",
            "Error rate for digit 9: 0.37222222222222223\n",
            "\n",
            " Digit with highest error rate: 9\n"
          ]
        }
      ],
      "source": [
        "import numpy as np\n",
        "from sklearn.datasets import load_digits\n",
        "from sklearn.naive_bayes import GaussianNB\n",
        "from sklearn.model_selection import train_test_split\n",
        "from sklearn.model_selection import cross_val_predict\n",
        "from sklearn.model_selection import cross_val_score\n",
        "from sklearn.metrics import confusion_matrix\n",
        "\n",
        "digit=load_digits()\n",
        "X=digit.data\n",
        "y=digit.target\n",
        "y_binary=(digit.target == 0).astype(int)\n",
        "\n",
        "X_train,X_test,y_train,y_test=train_test_split(X,y_binary,test_size=0.2,random_state=0)\n",
        "\n",
        "gaussian=GaussianNB()\n",
        "gaussian.fit(X_train,y_train)\n",
        "\n",
        "cls=GaussianNB()\n",
        "score=cross_val_score(cls,X,y,cv=5)\n",
        "print(\"Average Error\",1-score.mean(),\"\\n\")\n",
        "\n",
        "y_predict=cross_val_predict(gaussian,X,y,cv=5)\n",
        "matrix=confusion_matrix(y,y_predict)\n",
        "print(\"Confusion Matrix\",\"\\n\",matrix,\"\\n\")\n",
        "\n",
        "error_=[]\n",
        "for i in range(10):\n",
        "    error=1-matrix[i,i]/sum(matrix[i,:])\n",
        "    error_.append(error)\n",
        "    print(f\"Error rate for digit {i}: {error}\")\n",
        "\n",
        "max_error=max(error_)\n",
        "max_error_digit=error_.index(max_error)\n",
        "print(\"\\n\",f\"Digit with highest error rate: {max_error_digit}\")"
      ]
    }
  ],
  "metadata": {
    "colab": {
      "provenance": []
    },
    "kernelspec": {
      "display_name": "Python 3",
      "name": "python3"
    },
    "language_info": {
      "name": "python"
    }
  },
  "nbformat": 4,
  "nbformat_minor": 0
}
